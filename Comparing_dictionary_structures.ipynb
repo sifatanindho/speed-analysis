{
 "cells": [
  {
   "cell_type": "markdown",
   "id": "8f83e521",
   "metadata": {},
   "source": [
    "# Introduction\n",
    "\n",
    "In this experiment, we will compare two backends for a dictionary, specifically a balanced binary tree and a hash table. In theory, a hash table should be faster for insertions and deletions. We want to find out precisely how much faster."
   ]
  },
  {
   "cell_type": "markdown",
   "id": "e3623954",
   "metadata": {},
   "source": [
    "# Hypothesis\n",
    "\n",
    "A dictionary using a hash table as it's backend will be Θ(log n) times faster than a dictionary using a balanced binary tree as it's backend, where $n$ is the size of the dictionary. This is because the time complexity for insertion in a balanced binary tree is Θ(log n), while for a hash table, it's Θ(1)."
   ]
  },
  {
   "cell_type": "markdown",
   "id": "bc6f294d",
   "metadata": {},
   "source": [
    "# Methods"
   ]
  },
  {
   "cell_type": "markdown",
   "id": "9bde2cd2",
   "metadata": {},
   "source": [
    "We import the necessary modules for our experiment."
   ]
  },
  {
   "cell_type": "code",
   "execution_count": 3,
   "id": "e47de3bb",
   "metadata": {},
   "outputs": [],
   "source": [
    "import timeit # To time our algorithms\n",
    "import matplotlib.pyplot as plt # To generate the plots"
   ]
  },
  {
   "cell_type": "markdown",
   "id": "f73c2bf1",
   "metadata": {},
   "source": [
    "## Implementing the binary search tree dictionary\n",
    "\n",
    "We create a BinaryTreeDictionary class to build the dictionary class using binary search tree."
   ]
  },
  {
   "cell_type": "code",
   "execution_count": 4,
   "id": "4efa9d39",
   "metadata": {},
   "outputs": [],
   "source": [
    "class TreeNode:\n",
    "    def __init__(self, key, value):\n",
    "        self.key = key\n",
    "        self.value = value\n",
    "        self.left = None\n",
    "        self.right = None\n",
    "\n",
    "class BinaryTreeDictionary:\n",
    "    def __init__(self):\n",
    "        self.root = None\n",
    "\n",
    "    def _insert(self, node, key, value):\n",
    "        if node is None:\n",
    "            return TreeNode(key, value)\n",
    "\n",
    "        if key < node.key:\n",
    "            node.left = self._insert(node.left, key, value)\n",
    "        elif key > node.key:\n",
    "            node.right = self._insert(node.right, key, value)\n",
    "        else:\n",
    "            # Update the value if the key already exists\n",
    "            node.value = value\n",
    "\n",
    "        return node\n",
    "\n",
    "    def add_entry(self, key, value):\n",
    "        \"\"\"Add a key-value pair to the dictionary.\"\"\"\n",
    "        self.root = self._insert(self.root, key, value)\n",
    "\n",
    "    def _search(self, node, key):\n",
    "        if node is None or node.key == key:\n",
    "            return node.value if node else None\n",
    "\n",
    "        if key < node.key:\n",
    "            return self._search(node.left, key)\n",
    "        else:\n",
    "            return self._search(node.right, key)\n",
    "\n",
    "    def get_value(self, key):\n",
    "        \"\"\"Retrieve the value associated with a given key.\"\"\"\n",
    "        return self._search(self.root, key)\n",
    "\n"
   ]
  },
  {
   "cell_type": "markdown",
   "id": "86bed58c",
   "metadata": {},
   "source": [
    "## Implementing the hash table dictionary\n",
    "\n",
    "Fortunately, the dict data type built into Python uses hash tables as it's backend. So, we don't have to create our own class for it."
   ]
  },
  {
   "cell_type": "markdown",
   "id": "4acd1a3e",
   "metadata": {},
   "source": [
    "## Timing the insertions\n",
    "\n",
    "We record the time it takes for both data structures to insert data as the size of the dictionaries vary from $0$ to $1000$. For simplicity, we are inserting the current size of the dictionaries as the key, and the letter 'A' as the value."
   ]
  },
  {
   "cell_type": "code",
   "execution_count": 13,
   "id": "533453bc",
   "metadata": {},
   "outputs": [],
   "source": [
    "bst_dict = BinaryTreeDictionary()\n",
    "ht_dict = dict()\n",
    "bst_times = []\n",
    "ht_times = []\n",
    "\n",
    "for i in range(1000):\n",
    "    # Timing the bst dictionary's insertion\n",
    "    start_time = timeit.default_timer()\n",
    "    bst_dict.add_entry(i, 'A')\n",
    "    exec_time = timeit.default_timer() - start_time\n",
    "    bst_times.append(exec_time)\n",
    "\n",
    "    # Timing the ht dictionary's insertion\n",
    "    start_time = timeit.default_timer()\n",
    "    ht_dict[i] = 'A'\n",
    "    exec_time = timeit.default_timer() - start_time\n",
    "    ht_times.append(exec_time)\n",
    "    "
   ]
  },
  {
   "cell_type": "markdown",
   "id": "e15e6d55",
   "metadata": {},
   "source": [
    "# Results\n",
    "\n",
    "We use a graph plot of both dictionaries' times to compare their speed of insertion."
   ]
  },
  {
   "cell_type": "code",
   "execution_count": 15,
   "id": "59ffe053",
   "metadata": {},
   "outputs": [
    {
     "data": {
      "image/png": "[encoded data removed]",
      "text/plain": [
       "<Figure size 432x288 with 1 Axes>"
      ]
     },
     "metadata": {
      "needs_background": "light"
     },
     "output_type": "display_data"
    }
   ],
   "source": [
    "# Plotting the insertion sort execution times\n",
    "plt.plot(bst_times, label='BST dictionary', marker='o')\n",
    "\n",
    "# Plotting the merge sort execution times\n",
    "plt.plot(ht_times, label='Hash table dictionary', marker='s')\n",
    "\n",
    "# Adding labels and title\n",
    "plt.xlabel('Size of dictionary')\n",
    "plt.ylabel('Average Execution time')\n",
    "plt.title('Time comparison of insertion on different dictionary backends')\n",
    "\n",
    "# Adding a legend\n",
    "plt.legend()\n",
    "\n",
    "# Display the plot\n",
    "plt.show()"
   ]
  },
  {
   "cell_type": "markdown",
   "id": "a1eeacbe",
   "metadata": {},
   "source": [
    "# Discussion\n",
    "\n",
    "From the above graph, it can be seen that the average execution time for inserting into the BST dictionary increases significantly faster than that for the hash table dictionary with the size of the dictionary. This supports our hypothesis, where we expected the hash table backend to be much faster in insertions than the binary tree. Furthermore, the graph for the BST dictionary appears to be logarithmic, while the graph for the hash table dictionary appears to be constant.\n",
    "\n",
    "The surprising aspect of this experiment is that the graphs are much less jagged than I expected. Dictionaries, especially ones built using hash tables, are theoretically proved to be unpredictable in terms of the time complexity of their insertions. If a good hash function is not used, the time complexity will not always be Θ(1). This shows that the hash function(s) used by the built in Python dict() datatype is extremely good."
   ]
  },
  {
   "cell_type": "markdown",
   "id": "b17841fb",
   "metadata": {},
   "source": [
    "# Conclusion\n",
    "\n",
    "Under the conditions tested, a hash table dictionary is much faster in inserting data than a BST dictionary, the former having constant time complexity and the latter having logarithmic time complexity."
   ]
  }
 ],
 "metadata": {
  "kernelspec": {
   "display_name": "Python 3",
   "language": "python",
   "name": "python3"
  },
  "language_info": {
   "codemirror_mode": {
    "name": "ipython",
    "version": 3
   },
   "file_extension": ".py",
   "mimetype": "text/x-python",
   "name": "python",
   "nbconvert_exporter": "python",
   "pygments_lexer": "ipython3",
   "version": "3.8.8"
  }
 },
 "nbformat": 4,
 "nbformat_minor": 5
}
