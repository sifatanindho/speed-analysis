{
 "cells": [
  {
   "cell_type": "markdown",
   "id": "72acdc38",
   "metadata": {},
   "source": [
    "# Introduction\n",
    "\n",
    "In Merge Sort vs Insertion Sort (./\"Merge_sort_vs_Insertion_sort.ipynb\"), we observed that insertion sort is faster for smaller input sizes while merge sort is faster for larger input sizes. Given the results from that experiment, we will try to build a hybrid sorting algorithm that combines the two (called Tim sort). When we recurse in Merge sort, if a partition size is less than or equal to some constant $k$, we should use insertion sort, but if it is greater than $k$ we should continue with Merge sort.  We will experimentally determine what value of $k$ will optimize speed."
   ]
  },
  {
   "cell_type": "markdown",
   "id": "b18a4e2f",
   "metadata": {},
   "source": [
    "# Hypothesis\n",
    "\n",
    "The value of $k$ that will optimize speed will be the same as the crossover point from the Merge Sort vs Insertion Sort experiment. This is because insertion sort is more efficient than merge sort for input sizes less than the crossover point, so the hybrid sort will be most efficient if $k$ is equal to that very value of input size."
   ]
  },
  {
   "cell_type": "markdown",
   "id": "51217689",
   "metadata": {},
   "source": [
    "# Methods"
   ]
  },
  {
   "cell_type": "markdown",
   "id": "da94355b",
   "metadata": {},
   "source": [
    "We import the necessary modules for our experiment"
   ]
  },
  {
   "cell_type": "code",
   "execution_count": 1,
   "id": "2de56aa2",
   "metadata": {},
   "outputs": [],
   "source": [
    "import timeit # To time our algorithm\n",
    "import random # To generate random lists\n",
    "import matplotlib.pyplot as plt # To generate the plots"
   ]
  },
  {
   "cell_type": "markdown",
   "id": "ebc60574",
   "metadata": {},
   "source": [
    "## Insertion sort implementation"
   ]
  },
  {
   "cell_type": "code",
   "execution_count": 2,
   "id": "5c2eb562",
   "metadata": {},
   "outputs": [],
   "source": [
    "def insertion_sort(seq):\n",
    "    '''Iterative implementation of insertion sort'''\n",
    "    for i in range(1, len(seq)):\n",
    "        curr = seq[i]\n",
    "        j = i - 1\n",
    "        while j >= 0 and seq[j] > curr:\n",
    "            seq[j + 1] = seq[j]\n",
    "            j -= 1\n",
    "        seq[j + 1] = curr\n",
    "\n",
    "    return seq"
   ]
  },
  {
   "cell_type": "markdown",
   "id": "78505a7a",
   "metadata": {},
   "source": [
    "## Tim sort implementation\n",
    "\n",
    "We implement the hybrid Tim sort as described in the introduction."
   ]
  },
  {
   "cell_type": "code",
   "execution_count": 7,
   "id": "e514be6c",
   "metadata": {},
   "outputs": [],
   "source": [
    "def tim_sort(seq, k):\n",
    "    '''Recursive implementation of tim sort'''\n",
    "    if len(seq) <= 1: # already sorted\n",
    "        return seq\n",
    "    elif len(seq) <= k: # if input size small enough, use insertion sort\n",
    "        return insertion_sort(seq)\n",
    "    \n",
    "    def tim_sort_helper(left, right):\n",
    "        '''Merging back the split sequences'''\n",
    "        res = []\n",
    "        i = 0\n",
    "        j = 0\n",
    "        while i < len(left) and j < len(right):\n",
    "            if left[i] < right[j]:\n",
    "                res.append(left[i])\n",
    "                i += 1\n",
    "            else:\n",
    "                res.append(right[j])\n",
    "                j += 1\n",
    "\n",
    "        res += left[i:]\n",
    "        res += right[j:]\n",
    "        return res\n",
    "\n",
    "    \n",
    "    # split the sequence\n",
    "    mid = len(seq) // 2\n",
    "    left = tim_sort(seq[:mid], k)\n",
    "    right = tim_sort(seq[mid:], k)\n",
    "    \n",
    "    return tim_sort_helper(left, right)\n"
   ]
  },
  {
   "cell_type": "markdown",
   "id": "3b9a65e0",
   "metadata": {},
   "source": [
    "## Running tim sort with varying values of k\n",
    "\n",
    "We run tim sort on a randomly generated sequence of fixed length and change the value of k over a wide range. We record the average execution time of 10 iterations of the sort for each value of k in a list. "
   ]
  },
  {
   "cell_type": "code",
   "execution_count": 8,
   "id": "7b61ed5d",
   "metadata": {},
   "outputs": [],
   "source": [
    "execution_times = []\n",
    "seq_length = 10000\n",
    "seq = []\n",
    "k_values = []\n",
    "\n",
    "for i in range(10000):\n",
    "    seq.append(random.randint(0, seq_length))\n",
    "    \n",
    "for k in range(0, 200, 10):\n",
    "    k_values.append(k)\n",
    "    start_time = timeit.default_timer()\n",
    "    for i in range(10):    \n",
    "        sorted_seq = tim_sort(seq, k)\n",
    "    execution_time = timeit.default_timer() - start_time\n",
    "    execution_times.append(execution_time / 10)\n",
    "    "
   ]
  },
  {
   "cell_type": "markdown",
   "id": "a980bbe2",
   "metadata": {},
   "source": [
    "# Results\n",
    "\n",
    "We plot the execution times for each value of k."
   ]
  },
  {
   "cell_type": "code",
   "execution_count": 9,
   "id": "65a36642",
   "metadata": {},
   "outputs": [
    {
     "data": {
      "image/png": "[encoded data removed]",
      "text/plain": [
       "<Figure size 432x288 with 1 Axes>"
      ]
     },
     "metadata": {
      "needs_background": "light"
     },
     "output_type": "display_data"
    }
   ],
   "source": [
    "plt.plot(k_values, execution_times, label='Insertion sort', marker='o')\n",
    "\n",
    "# Adding labels and title\n",
    "plt.xlabel('K')\n",
    "plt.ylabel('Average Execution time')\n",
    "plt.title('Tim sort performance over different K')\n",
    "\n",
    "# Adding a legend\n",
    "plt.legend()\n",
    "\n",
    "# Display the plot\n",
    "plt.show()"
   ]
  },
  {
   "cell_type": "markdown",
   "id": "fa4ae208",
   "metadata": {},
   "source": [
    "# Discussion\n",
    "\n",
    "From the above graph, the observed value of k for which the average execution time is minimum is around $25$ to $30$. The graph reaches a absolute minima at this point and proceeds to increase with the value of k beyond it.\n",
    "\n",
    "The value of k is within the range of the crossover point from Merge Sort vs Insertion sort. These results, therefore, support our hypothesis.\n",
    "\n",
    "One challenge when conducting this experiment was finding a precise value of $k$. In future, I might run a few more experiments near the range of $k$ where the absolute minima occurs in order to narrow it down or perhaps find an exact critical point."
   ]
  },
  {
   "cell_type": "markdown",
   "id": "f4144201",
   "metadata": {},
   "source": [
    "# Conclusion\n",
    "\n",
    "Under the conditions tested, the hybrid Tim sort was fastest when $k$ had a value between $25$ to $30$."
   ]
  }
 ],
 "metadata": {
  "kernelspec": {
   "display_name": "Python 3",
   "language": "python",
   "name": "python3"
  },
  "language_info": {
   "codemirror_mode": {
    "name": "ipython",
    "version": 3
   },
   "file_extension": ".py",
   "mimetype": "text/x-python",
   "name": "python",
   "nbconvert_exporter": "python",
   "pygments_lexer": "ipython3",
   "version": "3.8.8"
  }
 },
 "nbformat": 4,
 "nbformat_minor": 5
}
