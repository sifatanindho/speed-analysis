{
 "cells": [
  {
   "cell_type": "markdown",
   "id": "c1e10563",
   "metadata": {},
   "source": [
    "# Introduction\n",
    "\n",
    "Merge sort has an expected run time of Θ(n log n); insertion sort has an expected run time of Θ(_n_2). As such, we know that Merge sort will be faster for very large n.  Insertion sort, however, turns out to be faster for very small n. Let's try to figure out how small.\n",
    "\n",
    "We will compare implementations of Merge sort and Insertion sort, testing each over a range of values for n. We will then plot a graph of the results, which should indicate the value on n where the lines cross (or a range of values where they essentially overlap)."
   ]
  },
  {
   "cell_type": "markdown",
   "id": "9626f520",
   "metadata": {},
   "source": [
    "# Hypothesis\n",
    "\n",
    "For small values of n, Insertion sort is expected to be faster than Merge sort. This is because the quadratic time complexity of Insertion sort (Θ(n^2)) means it performs well on small inputs with a relatively low overhead.\n",
    "\n",
    "As n increases, Merge sort's time complexity (Θ(n log n)) becomes more efficient compared to Insertion sort. This is due to Merge sort's divide-and-conquer strategy, which is well-suited for large input sizes, and it's generally considered more efficient for large arrays.\n",
    "\n",
    "There will be a point, a crossover point, where the performance of Merge sort becomes better than Insertion sort. The exact crossover point, where Merge sort becomes more efficient than Insertion sort, depends on various factors, including the specific implementations of the algorithms, hardware, and programming language. For this particular instance, my prediction is 10 $\\le$ $n$ $\\le$ 50, where $n$ is the size of the input."
   ]
  },
  {
   "cell_type": "markdown",
   "id": "f40b6a92",
   "metadata": {},
   "source": [
    "# Methods\n",
    "\n",
    "We import the necessary modules for our experiment."
   ]
  },
  {
   "cell_type": "code",
   "execution_count": 11,
   "id": "06c6f7c4",
   "metadata": {},
   "outputs": [],
   "source": [
    "import timeit # To time our algorithms\n",
    "import random # To generate random lists\n",
    "import matplotlib.pyplot as plt # To generate the plots"
   ]
  },
  {
   "cell_type": "markdown",
   "id": "46e9eba0",
   "metadata": {},
   "source": [
    "## Implementing merge sort"
   ]
  },
  {
   "cell_type": "code",
   "execution_count": 24,
   "id": "bb616d63",
   "metadata": {},
   "outputs": [],
   "source": [
    "def merge_sort(seq):\n",
    "    '''Recursive implementation of merge sort'''\n",
    "    if len(seq) <= 1: # already sorted\n",
    "        return seq\n",
    "    \n",
    "    def merge_sort_helper(left, right):\n",
    "        '''Merging back the split sequences'''\n",
    "        res = []\n",
    "        i = 0\n",
    "        j = 0\n",
    "        while i < len(left) and j < len(right):\n",
    "            if left[i] < right[j]:\n",
    "                res.append(left[i])\n",
    "                i += 1\n",
    "            else:\n",
    "                res.append(right[j])\n",
    "                j += 1\n",
    "\n",
    "        res += left[i:]\n",
    "        res += right[j:]\n",
    "        return res\n",
    "\n",
    "    \n",
    "    # split the sequence\n",
    "    mid = len(seq) // 2\n",
    "    left = merge_sort(seq[:mid])\n",
    "    right = merge_sort(seq[mid:])\n",
    "    \n",
    "    return merge_sort_helper(left, right)\n"
   ]
  },
  {
   "cell_type": "markdown",
   "id": "9dcd00ed",
   "metadata": {},
   "source": [
    "# Implementing insertion sort"
   ]
  },
  {
   "cell_type": "code",
   "execution_count": 25,
   "id": "f96a9a6e",
   "metadata": {},
   "outputs": [],
   "source": [
    "def insertion_sort(seq):\n",
    "    '''Iterative implementation of insertion sort'''\n",
    "    for i in range(1, len(seq)):\n",
    "        curr = seq[i]\n",
    "        j = i - 1\n",
    "        while j >= 0 and seq[j] > curr:\n",
    "            seq[j + 1] = seq[j]\n",
    "            j -= 1\n",
    "        seq[j + 1] = curr\n",
    "\n",
    "    return seq"
   ]
  },
  {
   "cell_type": "markdown",
   "id": "a67b9cf2",
   "metadata": {},
   "source": [
    "## Timing the sorting agorithms\n",
    "\n",
    "We continuously generate three random lists of integers by appending a randomly generated integer to each list. We choose 1000000 as the maximum length and the maximum value of an element in the list. According to our hypothesis, the expected crossover point should be well within this range.\n",
    "\n",
    "Each time the lists are updated in length, we run both insertion and merge sort on them 10000 times in a row. The run time for a single iteration of a sort is expected to be very short. We do multiple iterations of each sort to get a larger measurement so that we can tell the difference and calculate the time for a single run of a sort with better precision.\n",
    "\n",
    "We then find the average time needed for all three lists and record that as the average execution time used by the sorting algorithm for that input size. We maintain two parrallel lists to record the time."
   ]
  },
  {
   "cell_type": "code",
   "execution_count": 124,
   "id": "19a8764e",
   "metadata": {},
   "outputs": [
    {
     "name": "stdout",
     "output_type": "stream",
     "text": [
      "Crossover point: 0\n"
     ]
    }
   ],
   "source": [
    "random_list_1 = []\n",
    "random_list_2 = []\n",
    "random_list_3 = []\n",
    "\n",
    "max_length = 1000 # The maximum length of the lists\n",
    "max_value = 1000\n",
    "insertion_sort_times = []\n",
    "merge_sort_times = []\n",
    "crossed_over = False\n",
    "\n",
    "for i in range(max_length):\n",
    "    random_list_1.append(random.randint(0, max_value))\n",
    "    random_list_2.append(random.randint(0, max_value))\n",
    "    random_list_3.append(random.randint(0, max_value))\n",
    "    \n",
    "    # Timing the insertion sort\n",
    "    if i % 50 == 0:\n",
    "        start_time = timeit.default_timer()\n",
    "        for j in range(10): # Multiple iterations of asort to get larger measurement\n",
    "            tmp_list = random_list_1\n",
    "            tmp_list = insertion_sort(tmp_list)\n",
    "            tmp_list = random_list_2\n",
    "            tmp_list = insertion_sort(tmp_list)\n",
    "            tmp_list = random_list_3\n",
    "            tmp_list = insertion_sort(tmp_list)\n",
    "\n",
    "        execution_time = timeit.default_timer() - start_time\n",
    "        insertion_sort_times.append((execution_time / 10) / 3) # average time for a single iteration of a sort on a list\n",
    "\n",
    "        # Timing the merge sort\n",
    "        start_time = timeit.default_timer()\n",
    "        for j in range(1): # Multiple iterations of a sort to get larger measurement\n",
    "            tmp_list = random_list_1\n",
    "            tmp_list = merge_sort(tmp_list)\n",
    "            tmp_list = random_list_2\n",
    "            tmp_list = merge_sort(tmp_list)\n",
    "            tmp_list = random_list_3\n",
    "            tmp_list = merge_sort(tmp_list)\n",
    "\n",
    "        execution_time = timeit.default_timer() - start_time\n",
    "        merge_sort_times.append((execution_time / 10) / 3) # average time for a single iteration of a sort on a list\n",
    "        \n",
    "        if insertion_sort_times[-1] > merge_sort_times[-1] and not crossed_over:\n",
    "            print(f\"Crossover point: {i}\")\n",
    "            crossed_over = True\n",
    "\n",
    "    "
   ]
  },
  {
   "cell_type": "markdown",
   "id": "692f6b75",
   "metadata": {},
   "source": [
    "# Results\n",
    "\n",
    "We plot the execution times for each sort using the Matplotlib library."
   ]
  },
  {
   "cell_type": "code",
   "execution_count": 125,
   "id": "f148f1d1",
   "metadata": {},
   "outputs": [
    {
     "data": {
      "image/png": "[encoded data removed]",
      "text/plain": [
       "<Figure size 432x288 with 1 Axes>"
      ]
     },
     "metadata": {
      "needs_background": "light"
     },
     "output_type": "display_data"
    }
   ],
   "source": [
    "plt.plot(insertion_sort_times, label='Insertion sort', marker='o')\n",
    "\n",
    "# Plotting the second list\n",
    "plt.plot(merge_sort_times, label='Merge sort', marker='s')\n",
    "\n",
    "# Adding labels and title\n",
    "plt.xlabel('Input size x50')\n",
    "plt.ylabel('Average Execution time')\n",
    "plt.title('Time comparison of insertion and ')\n",
    "\n",
    "# Adding a legend\n",
    "plt.legend()\n",
    "\n",
    "# Display the plot\n",
    "plt.show()"
   ]
  },
  {
   "cell_type": "markdown",
   "id": "55cbb4d0",
   "metadata": {},
   "source": [
    "# Discussion\n",
    "\n",
    "From the above graph, the observed crossover point is between $0 \\le n \\le 75 (2.5 \\times 50)$, where $n$ is the input size. This range may shift slightly since we are using randomly generated lists, so I am expecting a 4-8% margin of error in my result. In future, I might run a few more experiments to record the different crossover points and determine the exact margin of error.\n",
    "\n",
    "The most difficult part of the experiment was running multiple iterations of the sorts. Each sort takes a long execution time once the input size becomes significantly large, and getting results for those values was a tedious task on a laptop machine. In future, I might run this experiment with larger input sizes on a lab computer with a GPU that has high processing speeds.\n",
    "\n",
    "The results obtained does support the hypothesis. Insertion sort has smaller execution times than merge sorts for smaller input size. As input size increases, merge sort becomes faster as insertion sort's execution time grows polynomially and overtakes merge sort's execution time at the crossover point. However, it is not a very smooth graph. There is a lot of jagged lines and the execution time function isn't always increasing with time. This may be due to other factors such as the amount of computational resources available (which is always changing)."
   ]
  },
  {
   "cell_type": "markdown",
   "id": "eeb4ad78",
   "metadata": {},
   "source": [
    "# Conclusion\n",
    "\n",
    "Under the conditions tested, Insertion sort produces a faster algorithm for n < 75, while Merge sort is faster for n > 100.  For n between 75 and 100 the two sorting algorithms are indistinguishable."
   ]
  }
 ],
 "metadata": {
  "kernelspec": {
   "display_name": "Python 3",
   "language": "python",
   "name": "python3"
  },
  "language_info": {
   "codemirror_mode": {
    "name": "ipython",
    "version": 3
   },
   "file_extension": ".py",
   "mimetype": "text/x-python",
   "name": "python",
   "nbconvert_exporter": "python",
   "pygments_lexer": "ipython3",
   "version": "3.8.8"
  }
 },
 "nbformat": 4,
 "nbformat_minor": 5
}
